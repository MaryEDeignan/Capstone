{
 "cells": [
  {
   "cell_type": "markdown",
   "metadata": {
    "id": "sCJp0WNW8_VG"
   },
   "source": [
    "# Homework 3\n",
    "You will use the PyTorch library for all the classes and methods in this assignment. You should use a double-precision data type, and the device is either \"CPU\" or \"cuda.\""
   ]
  },
  {
   "cell_type": "code",
   "execution_count": 1,
   "metadata": {
    "id": "jXPyUIQf42Pj"
   },
   "outputs": [],
   "source": [
    "import torch\n",
    "import pandas as pd\n",
    "import numpy as np\n",
    "import torch.nn as nn\n",
    "import matplotlib.pyplot as plt\n",
    "\n",
    "from sklearn.model_selection import train_test_split, KFold\n",
    "from sklearn.preprocessing import StandardScaler, PolynomialFeatures, MinMaxScaler\n",
    "from sklearn.metrics import mean_squared_error\n",
    "from scipy.linalg import toeplitz"
   ]
  },
  {
   "cell_type": "code",
   "execution_count": 2,
   "metadata": {},
   "outputs": [],
   "source": [
    "# importing classes\n",
    "import SCAD_Class as SCAD\n",
    "import Elastic_Net_Class as EN\n",
    "import SQRT_Lasso_Class as SQRT"
   ]
  },
  {
   "cell_type": "markdown",
   "metadata": {
    "id": "buECI5HHSXIB"
   },
   "source": [
    "## Part 1\n",
    "1) Create your own PyTorch class that implements the method of SCAD regularization and variable selection (smoothly clipped absolute deviations) for linear models. Your development should be based on the following references:\n",
    "\n",
    "- https://andrewcharlesjones.github.io/journal/scad.html\n",
    "- https://www.jstor.org/stable/27640214?seq=1\n",
    "\n",
    " Test your method on a real data set and determine a variable selection based on features' importance, according to SCAD. (4 points)"
   ]
  },
  {
   "cell_type": "code",
   "execution_count": 3,
   "metadata": {
    "colab": {
     "base_uri": "https://localhost:8080/",
     "height": 112
    },
    "id": "tr_G0wNB5cma",
    "outputId": "c058db1a-1fbb-4a48-8312-92cf5851425f"
   },
   "outputs": [
    {
     "data": {
      "text/html": [
       "<div>\n",
       "<style scoped>\n",
       "    .dataframe tbody tr th:only-of-type {\n",
       "        vertical-align: middle;\n",
       "    }\n",
       "\n",
       "    .dataframe tbody tr th {\n",
       "        vertical-align: top;\n",
       "    }\n",
       "\n",
       "    .dataframe thead th {\n",
       "        text-align: right;\n",
       "    }\n",
       "</style>\n",
       "<table border=\"1\" class=\"dataframe\">\n",
       "  <thead>\n",
       "    <tr style=\"text-align: right;\">\n",
       "      <th></th>\n",
       "      <th>crime</th>\n",
       "      <th>residential</th>\n",
       "      <th>industrial</th>\n",
       "      <th>nox</th>\n",
       "      <th>rooms</th>\n",
       "      <th>older</th>\n",
       "      <th>distance</th>\n",
       "      <th>tax</th>\n",
       "      <th>ptratio</th>\n",
       "      <th>lstat</th>\n",
       "      <th>cmedv</th>\n",
       "    </tr>\n",
       "  </thead>\n",
       "  <tbody>\n",
       "    <tr>\n",
       "      <th>0</th>\n",
       "      <td>0.00632</td>\n",
       "      <td>18.0</td>\n",
       "      <td>2.31</td>\n",
       "      <td>0.538</td>\n",
       "      <td>6.575</td>\n",
       "      <td>65.199997</td>\n",
       "      <td>4.0900</td>\n",
       "      <td>296</td>\n",
       "      <td>15.300000</td>\n",
       "      <td>4.98</td>\n",
       "      <td>24.0</td>\n",
       "    </tr>\n",
       "    <tr>\n",
       "      <th>1</th>\n",
       "      <td>0.02731</td>\n",
       "      <td>0.0</td>\n",
       "      <td>7.07</td>\n",
       "      <td>0.469</td>\n",
       "      <td>6.421</td>\n",
       "      <td>78.900002</td>\n",
       "      <td>4.9671</td>\n",
       "      <td>242</td>\n",
       "      <td>17.799999</td>\n",
       "      <td>9.14</td>\n",
       "      <td>21.6</td>\n",
       "    </tr>\n",
       "  </tbody>\n",
       "</table>\n",
       "</div>"
      ],
      "text/plain": [
       "     crime  residential  industrial    nox  rooms      older  distance  tax  \\\n",
       "0  0.00632         18.0        2.31  0.538  6.575  65.199997    4.0900  296   \n",
       "1  0.02731          0.0        7.07  0.469  6.421  78.900002    4.9671  242   \n",
       "\n",
       "     ptratio  lstat  cmedv  \n",
       "0  15.300000   4.98   24.0  \n",
       "1  17.799999   9.14   21.6  "
      ]
     },
     "execution_count": 3,
     "metadata": {},
     "output_type": "execute_result"
    }
   ],
   "source": [
    "# importing housing dataset from github\n",
    "housing = pd.read_csv('https://raw.githubusercontent.com/dvasiliu/AML/refs/heads/main/Data%20Sets/housing.csv')\n",
    "housing = housing.drop(columns = ['town', 'tract','longitude','latitude','river','highway']) # removing categorical/string features\n",
    "housing.head(2)"
   ]
  },
  {
   "cell_type": "code",
   "execution_count": 4,
   "metadata": {
    "id": "O0gLKXzyJaD7"
   },
   "outputs": [],
   "source": [
    "# setting x and y variables with y being CMEDV which is Median value of owner-occupied homes in $1000's\n",
    "X = housing.drop(columns=['cmedv'])\n",
    "y = housing['cmedv']\n",
    "\n",
    "#scaling the data\n",
    "scaler = StandardScaler()\n",
    "X_scaled = scaler.fit_transform(X)\n",
    "\n",
    "# turning inputs for x and y into tensors\n",
    "X_tensor = torch.tensor(X_scaled, dtype=torch.float64)\n",
    "y_tensor = torch.tensor(y.values, dtype=torch.float64)"
   ]
  },
  {
   "cell_type": "code",
   "execution_count": 5,
   "metadata": {
    "id": "Wu8NDpLdJl8b"
   },
   "outputs": [],
   "source": [
    "# performing tts on data\n",
    "X_train, X_test, y_train, y_test = train_test_split(X_tensor, y_tensor, test_size=0.2, random_state=440)"
   ]
  },
  {
   "cell_type": "code",
   "execution_count": 6,
   "metadata": {
    "colab": {
     "base_uri": "https://localhost:8080/"
    },
    "id": "05UVBff6JpLt",
    "outputId": "491ee11a-f8e9-4735-d6b6-41582ffadf4b"
   },
   "outputs": [
    {
     "name": "stdout",
     "output_type": "stream",
     "text": [
      "epoch: 100/2000, Loss: 373.73065308898913\n",
      "epoch: 200/2000, Loss: 257.72626911325625\n",
      "epoch: 300/2000, Loss: 180.99697091665817\n",
      "epoch: 400/2000, Loss: 129.57883221085012\n",
      "epoch: 500/2000, Loss: 95.02195591536142\n",
      "epoch: 600/2000, Loss: 71.7702101340218\n",
      "epoch: 700/2000, Loss: 56.109388799087384\n",
      "epoch: 800/2000, Loss: 45.548529402143586\n",
      "epoch: 900/2000, Loss: 38.41573110746524\n",
      "epoch: 1000/2000, Loss: 33.58843749985296\n",
      "epoch: 1100/2000, Loss: 30.31271051280762\n",
      "epoch: 1200/2000, Loss: 28.082024553862205\n",
      "epoch: 1300/2000, Loss: 26.555952750683883\n",
      "epoch: 1400/2000, Loss: 25.505604034961078\n",
      "epoch: 1500/2000, Loss: 24.777003111709643\n",
      "epoch: 1600/2000, Loss: 24.26650777711772\n",
      "epoch: 1700/2000, Loss: 23.90430325105072\n",
      "epoch: 1800/2000, Loss: 23.643317190722854\n",
      "epoch: 1900/2000, Loss: 23.451773370586448\n",
      "epoch: 2000/2000, Loss: 23.308188336266586\n",
      "Coefficients: [[-0.81646896  0.65674727 -0.66842402 -0.76813385  2.75073084 -0.23592049\n",
      "  -2.33653034 -0.31554764 -1.53764449 -3.7154121 ]]\n"
     ]
    }
   ],
   "source": [
    "#setting a random seed so results are reproducible\n",
    "torch.manual_seed(440)\n",
    "\n",
    "# initializing the SCADLinearRegression model from .py file\n",
    "model = SCAD.SCADLinearRegression(input_size=X_train.shape[1], lambda_val=.01, a_val=2.5)\n",
    "\n",
    "#fitting the model\n",
    "model.fit(X_train, y_train)\n",
    "\n",
    "# getting the coefficients learned by the model after training\n",
    "coefficients = model.get_coefficients().detach().cpu().numpy()\n",
    "print(\"Coefficients:\", coefficients)\n",
    "\n",
    "# making predictions on the test set (X_test)\n",
    "predictions = model.predict(X_test)\n",
    "#print(\"Predictions:\", predictions)"
   ]
  },
  {
   "cell_type": "markdown",
   "metadata": {
    "id": "Z06h7M_tOlY1"
   },
   "source": [
    "### Findings\n",
    "\n",
    "The coefficients as found above rounded: \n",
    "- crime:&nbsp;&nbsp; -0.816\n",
    "- residential:&nbsp;&nbsp;  0.657\n",
    "- industrial:&nbsp;&nbsp;   -0.668\n",
    "- nox:&nbsp;&nbsp;   -0.768\n",
    "- rooms:&nbsp;&nbsp;   2.751\t\n",
    "- older:&nbsp;&nbsp;   -0.236\n",
    "- distance:&nbsp;&nbsp;   -2.337\t\n",
    "- tax:&nbsp;&nbsp;   -0.316\t\n",
    "- ptratio:&nbsp;&nbsp;   -1.538\n",
    "- lstat:&nbsp;&nbsp;   -3.715\n",
    "\n",
    "The positive coefficients indicate that an increase in the feature corresponds to an increase in predicted median home value (ex. as rooms increases, so does predicted median home value).\n",
    "\n",
    "The negative coefficients indicate than an increase in the feature corresponds to a decrease in predicted median home value (ex. as distance increases, predicted median home value decreases).\n",
    "\n",
    "Based on these coefficients, we can determine that rooms, ptratio, and lstat are all very significant variables in predicting median home value and should therefore stay in our model. None of the variables have zero-coefficients, meaning they are all contributing something to the model, so all of the features should likely stay; however, the features older and tax are contribting the least to the model. "
   ]
  },
  {
   "cell_type": "markdown",
   "metadata": {
    "id": "ATrmYJnicto2"
   },
   "source": [
    "## Part 2\n",
    "\n",
    "Based on the simulation design explained in class, generate 200 data sets where the input features have a strong correlation structure (you may consider a 0.9) and apply ElasticNet, SqrtLasso and SCAD to check which method produces the best approximation of an ideal solution, such as a \"betastar\" you design with a sparsity pattern of your choice."
   ]
  },
  {
   "cell_type": "markdown",
   "metadata": {
    "id": "s60Ylw6Fhal8"
   },
   "source": [
    "### Code"
   ]
  },
  {
   "cell_type": "code",
   "execution_count": 7,
   "metadata": {
    "id": "yiJKPvR5eqEl"
   },
   "outputs": [],
   "source": [
    "# Generating 200 data sets where inputs have correlation of .9, this code is based on Penalized Regression with PyTorch notebook example.\n",
    "def make_correlated_features(num_samples,p,rho):\n",
    "  vcor = []\n",
    "  for i in range(p):\n",
    "    vcor.append(rho**i)\n",
    "  r = toeplitz(vcor)\n",
    "  mu = np.repeat(0,p)\n",
    "  x = np.random.multivariate_normal(mu, r, size=num_samples)\n",
    "  return x\n",
    "\n",
    "rho =0.9 # correlation\n",
    "p = 15 # number of features\n",
    "n = 200 # number of samples\n",
    "vcor = []\n",
    "for i in range(p):\n",
    "  vcor.append(rho**i)\n",
    "\n",
    "\n",
    "x = make_correlated_features(n,p,rho)"
   ]
  },
  {
   "cell_type": "code",
   "execution_count": 8,
   "metadata": {
    "id": "8d_ROdbPgisy"
   },
   "outputs": [],
   "source": [
    "beta =np.array([-1,0,0,2,2,-3,-1,0,4,3]) # setting true coefficients for model\n",
    "beta = beta.reshape(-1,1) # reshaping to be column vector\n",
    "\n",
    "# filling the rest of betas with zeros so there is a coefficient for each feature (we have 15 features and only set 10 coefficients)\n",
    "betastar = np.concatenate([beta,np.repeat(0,p-len(beta)).reshape(-1,1)],axis=0) \n",
    "# finding y variable with added noise\n",
    "y = x@betastar + 1.5*np.random.normal(size=(n,1))"
   ]
  },
  {
   "cell_type": "code",
   "execution_count": 9,
   "metadata": {
    "id": "zs9DlQ2thmfd"
   },
   "outputs": [],
   "source": [
    "# creating tensors from x and y with double precision\n",
    "x_tensor = torch.tensor(x, dtype=torch.float64)\n",
    "y_tensor = torch.tensor(y, dtype=torch.float64)"
   ]
  },
  {
   "cell_type": "code",
   "execution_count": 10,
   "metadata": {
    "id": "KiMCFp0cimPs"
   },
   "outputs": [
    {
     "name": "stdout",
     "output_type": "stream",
     "text": [
      "Epoch [100/1000], Loss: 3.6252518884626426\n",
      "Epoch [200/1000], Loss: 3.160894980995493\n",
      "Epoch [300/1000], Loss: 2.931823245907797\n",
      "Epoch [400/1000], Loss: 2.784487468311996\n",
      "Epoch [500/1000], Loss: 2.686819138275572\n",
      "Epoch [600/1000], Loss: 2.6211034564577305\n",
      "Epoch [700/1000], Loss: 2.5763406857639013\n",
      "Epoch [800/1000], Loss: 2.545479026578709\n",
      "Epoch [900/1000], Loss: 2.523994278368218\n",
      "Epoch [1000/1000], Loss: 2.50921528188135\n",
      "Epoch [100/1000], Loss: 3.4119527577294706\n",
      "Epoch [200/1000], Loss: 3.1079031633859855\n",
      "Epoch [300/1000], Loss: 2.9907820799745513\n",
      "Epoch [400/1000], Loss: 2.8977093236620144\n",
      "Epoch [500/1000], Loss: 2.8328727345596336\n",
      "Epoch [600/1000], Loss: 2.8029721048827874\n",
      "Epoch [700/1000], Loss: 2.7859226817476674\n",
      "Epoch [800/1000], Loss: 2.7771687155727496\n",
      "Epoch [900/1000], Loss: 2.7728343111644658\n",
      "Epoch [1000/1000], Loss: 2.771093174412446\n",
      "epoch: 100/1000, Loss: 4.887530161723703\n",
      "epoch: 200/1000, Loss: 3.5634173673128853\n",
      "epoch: 300/1000, Loss: 2.914643613321887\n",
      "epoch: 400/1000, Loss: 2.566898911407924\n",
      "epoch: 500/1000, Loss: 2.3716595392869775\n",
      "epoch: 600/1000, Loss: 2.2576798161486873\n",
      "epoch: 700/1000, Loss: 2.188566383698108\n",
      "epoch: 800/1000, Loss: 2.1449746799645197\n",
      "epoch: 900/1000, Loss: 2.116353458662914\n",
      "epoch: 1000/1000, Loss: 2.096805774674371\n"
     ]
    }
   ],
   "source": [
    "# initializes and fits the model to the training data,then retrieves and flattens the learned coefficients into a numpy array\n",
    "\n",
    "elastic_net = EN.ElasticNet(input_size=p, alpha=0.1, l1_ratio=0.5)\n",
    "elastic_net.fit(x_tensor, y_tensor)\n",
    "learned_coefficients_el = elastic_net.get_coefficients().detach().numpy().flatten()\n",
    "\n",
    "sqrt_lasso = SQRT.SqrtLasso(input_size=p, alpha = .1)\n",
    "sqrt_lasso.fit(x_tensor, y_tensor)\n",
    "learned_coefficients_sl = sqrt_lasso.get_coefficients().detach().numpy().flatten() \n",
    "\n",
    "scad_model = SCAD.SCADLinearRegression(input_size=p, lambda_val=.01, a_val=2.0)\n",
    "scad_model.fit(x_tensor, y_tensor, num_epochs=1000, learning_rate=.01)\n",
    "learned_coefficients_scad = scad_model.get_coefficients().detach().numpy().flatten()"
   ]
  },
  {
   "cell_type": "code",
   "execution_count": 11,
   "metadata": {},
   "outputs": [
    {
     "data": {
      "text/html": [
       "<div>\n",
       "<style scoped>\n",
       "    .dataframe tbody tr th:only-of-type {\n",
       "        vertical-align: middle;\n",
       "    }\n",
       "\n",
       "    .dataframe tbody tr th {\n",
       "        vertical-align: top;\n",
       "    }\n",
       "\n",
       "    .dataframe thead th {\n",
       "        text-align: right;\n",
       "    }\n",
       "</style>\n",
       "<table border=\"1\" class=\"dataframe\">\n",
       "  <thead>\n",
       "    <tr style=\"text-align: right;\">\n",
       "      <th></th>\n",
       "      <th>True Coefficients</th>\n",
       "      <th>ElasticNet Coefficients</th>\n",
       "      <th>SqrtLasso Coefficients</th>\n",
       "      <th>SCAD Coefficients</th>\n",
       "    </tr>\n",
       "  </thead>\n",
       "  <tbody>\n",
       "    <tr>\n",
       "      <th>0</th>\n",
       "      <td>-1</td>\n",
       "      <td>-0.5054</td>\n",
       "      <td>-0.3560</td>\n",
       "      <td>-0.7351</td>\n",
       "    </tr>\n",
       "    <tr>\n",
       "      <th>1</th>\n",
       "      <td>0</td>\n",
       "      <td>-0.0785</td>\n",
       "      <td>-0.0021</td>\n",
       "      <td>-0.2023</td>\n",
       "    </tr>\n",
       "    <tr>\n",
       "      <th>2</th>\n",
       "      <td>0</td>\n",
       "      <td>0.0045</td>\n",
       "      <td>-0.0012</td>\n",
       "      <td>0.1230</td>\n",
       "    </tr>\n",
       "    <tr>\n",
       "      <th>3</th>\n",
       "      <td>2</td>\n",
       "      <td>1.1844</td>\n",
       "      <td>0.9161</td>\n",
       "      <td>1.5773</td>\n",
       "    </tr>\n",
       "    <tr>\n",
       "      <th>4</th>\n",
       "      <td>2</td>\n",
       "      <td>1.0339</td>\n",
       "      <td>0.8475</td>\n",
       "      <td>2.0383</td>\n",
       "    </tr>\n",
       "    <tr>\n",
       "      <th>5</th>\n",
       "      <td>-3</td>\n",
       "      <td>-1.1584</td>\n",
       "      <td>-1.0881</td>\n",
       "      <td>-2.4309</td>\n",
       "    </tr>\n",
       "    <tr>\n",
       "      <th>6</th>\n",
       "      <td>-1</td>\n",
       "      <td>-0.7518</td>\n",
       "      <td>-0.3987</td>\n",
       "      <td>-1.4895</td>\n",
       "    </tr>\n",
       "    <tr>\n",
       "      <th>7</th>\n",
       "      <td>0</td>\n",
       "      <td>0.3043</td>\n",
       "      <td>0.0004</td>\n",
       "      <td>0.1953</td>\n",
       "    </tr>\n",
       "    <tr>\n",
       "      <th>8</th>\n",
       "      <td>4</td>\n",
       "      <td>2.7854</td>\n",
       "      <td>3.2157</td>\n",
       "      <td>3.7163</td>\n",
       "    </tr>\n",
       "    <tr>\n",
       "      <th>9</th>\n",
       "      <td>3</td>\n",
       "      <td>1.9573</td>\n",
       "      <td>2.3082</td>\n",
       "      <td>2.6395</td>\n",
       "    </tr>\n",
       "    <tr>\n",
       "      <th>10</th>\n",
       "      <td>0</td>\n",
       "      <td>0.5999</td>\n",
       "      <td>0.0143</td>\n",
       "      <td>0.2402</td>\n",
       "    </tr>\n",
       "    <tr>\n",
       "      <th>11</th>\n",
       "      <td>0</td>\n",
       "      <td>0.6413</td>\n",
       "      <td>0.6140</td>\n",
       "      <td>0.5055</td>\n",
       "    </tr>\n",
       "    <tr>\n",
       "      <th>12</th>\n",
       "      <td>0</td>\n",
       "      <td>0.0001</td>\n",
       "      <td>0.0037</td>\n",
       "      <td>-0.2825</td>\n",
       "    </tr>\n",
       "    <tr>\n",
       "      <th>13</th>\n",
       "      <td>0</td>\n",
       "      <td>0.0004</td>\n",
       "      <td>0.0027</td>\n",
       "      <td>-0.0735</td>\n",
       "    </tr>\n",
       "    <tr>\n",
       "      <th>14</th>\n",
       "      <td>0</td>\n",
       "      <td>0.1152</td>\n",
       "      <td>0.0034</td>\n",
       "      <td>0.2064</td>\n",
       "    </tr>\n",
       "  </tbody>\n",
       "</table>\n",
       "</div>"
      ],
      "text/plain": [
       "    True Coefficients  ElasticNet Coefficients  SqrtLasso Coefficients  \\\n",
       "0                  -1                  -0.5054                 -0.3560   \n",
       "1                   0                  -0.0785                 -0.0021   \n",
       "2                   0                   0.0045                 -0.0012   \n",
       "3                   2                   1.1844                  0.9161   \n",
       "4                   2                   1.0339                  0.8475   \n",
       "5                  -3                  -1.1584                 -1.0881   \n",
       "6                  -1                  -0.7518                 -0.3987   \n",
       "7                   0                   0.3043                  0.0004   \n",
       "8                   4                   2.7854                  3.2157   \n",
       "9                   3                   1.9573                  2.3082   \n",
       "10                  0                   0.5999                  0.0143   \n",
       "11                  0                   0.6413                  0.6140   \n",
       "12                  0                   0.0001                  0.0037   \n",
       "13                  0                   0.0004                  0.0027   \n",
       "14                  0                   0.1152                  0.0034   \n",
       "\n",
       "    SCAD Coefficients  \n",
       "0             -0.7351  \n",
       "1             -0.2023  \n",
       "2              0.1230  \n",
       "3              1.5773  \n",
       "4              2.0383  \n",
       "5             -2.4309  \n",
       "6             -1.4895  \n",
       "7              0.1953  \n",
       "8              3.7163  \n",
       "9              2.6395  \n",
       "10             0.2402  \n",
       "11             0.5055  \n",
       "12            -0.2825  \n",
       "13            -0.0735  \n",
       "14             0.2064  "
      ]
     },
     "execution_count": 11,
     "metadata": {},
     "output_type": "execute_result"
    }
   ],
   "source": [
    "# creating a dataframe to easily compare true coefficients with learned coefficients from three models\n",
    "coef_data = {\n",
    "    \"True Coefficients\": betastar.flatten(),\n",
    "    \"ElasticNet Coefficients\": learned_coefficients_el,\n",
    "    \"SqrtLasso Coefficients\": learned_coefficients_sl,\n",
    "    \"SCAD Coefficients\": learned_coefficients_scad\n",
    "}\n",
    "\n",
    "df = pd.DataFrame(coef_data)\n",
    "pd.set_option('display.float_format', '{:.4f}'.format)\n",
    "df"
   ]
  },
  {
   "cell_type": "code",
   "execution_count": 18,
   "metadata": {},
   "outputs": [
    {
     "data": {
      "image/png": "[encoded data removed]",
      "text/plain": [
       "<Figure size 600x400 with 1 Axes>"
      ]
     },
     "metadata": {},
     "output_type": "display_data"
    }
   ],
   "source": [
    "# creating plot to easily see the absolute differences from the true coefficient for each model\n",
    "abs_diff = df.sub(df[\"True Coefficients\"], axis=0).abs()\n",
    "color_scheme = plt.get_cmap('Dark2')\n",
    "abs_diff.drop(columns=[\"True Coefficients\"]).plot(kind='bar', figsize=(6, 4), alpha=0.7, color = color_scheme.colors)\n",
    "plt.title(\"Absolute Differences from True Coefficients\")\n",
    "plt.ylabel(\"Absolute Difference\")\n",
    "plt.xlabel(\"Coefficient Index\")\n",
    "plt.legend(fontsize='small')\n",
    "\n",
    "#plt.savefig('absolute_differences.png', dpi=300, bbox_inches='tight')\n",
    "plt.show()"
   ]
  },
  {
   "cell_type": "markdown",
   "metadata": {},
   "source": [
    "### Findings\n",
    "\n",
    "The graph above illustrates the absolute difference from the defined coefficient for each model. Based on this graph, SCAD is generally the closest to the true coefficients when they are non-zero coefficients. Interestingly, SCAD failed to have zero coefficients where they were defined (at indices 1, 2, 7, 10, 11, 12, 13, and 14). Square Root Lasso did a very good job of finding these zero-coefficients and Elastic-Net did a notably better job that SCAD."
   ]
  },
  {
   "cell_type": "markdown",
   "metadata": {
    "id": "-Hk_qG59c7H4"
   },
   "source": [
    "## Part 3\n",
    "Use the methods you implemented above to determine a variable selection for the Concrete data set with quadratic interaction terms (polynomial features of degree 2). To solve this, you should consider choosing the best weight for the penalty function. What is the ideal model size (number of variables with non-zero weights), and what is the cross-validated mean square error?"
   ]
  },
  {
   "cell_type": "code",
   "execution_count": 13,
   "metadata": {},
   "outputs": [
    {
     "data": {
      "text/html": [
       "<div>\n",
       "<style scoped>\n",
       "    .dataframe tbody tr th:only-of-type {\n",
       "        vertical-align: middle;\n",
       "    }\n",
       "\n",
       "    .dataframe tbody tr th {\n",
       "        vertical-align: top;\n",
       "    }\n",
       "\n",
       "    .dataframe thead th {\n",
       "        text-align: right;\n",
       "    }\n",
       "</style>\n",
       "<table border=\"1\" class=\"dataframe\">\n",
       "  <thead>\n",
       "    <tr style=\"text-align: right;\">\n",
       "      <th></th>\n",
       "      <th>cement</th>\n",
       "      <th>slag</th>\n",
       "      <th>ash</th>\n",
       "      <th>water</th>\n",
       "      <th>superplastic</th>\n",
       "      <th>coarseagg</th>\n",
       "      <th>fineagg</th>\n",
       "      <th>age</th>\n",
       "      <th>strength</th>\n",
       "    </tr>\n",
       "  </thead>\n",
       "  <tbody>\n",
       "    <tr>\n",
       "      <th>0</th>\n",
       "      <td>540.0000</td>\n",
       "      <td>0.0000</td>\n",
       "      <td>0.0000</td>\n",
       "      <td>162.0000</td>\n",
       "      <td>2.5000</td>\n",
       "      <td>1040.0000</td>\n",
       "      <td>676.0000</td>\n",
       "      <td>28</td>\n",
       "      <td>79.9900</td>\n",
       "    </tr>\n",
       "    <tr>\n",
       "      <th>1</th>\n",
       "      <td>540.0000</td>\n",
       "      <td>0.0000</td>\n",
       "      <td>0.0000</td>\n",
       "      <td>162.0000</td>\n",
       "      <td>2.5000</td>\n",
       "      <td>1055.0000</td>\n",
       "      <td>676.0000</td>\n",
       "      <td>28</td>\n",
       "      <td>61.8900</td>\n",
       "    </tr>\n",
       "  </tbody>\n",
       "</table>\n",
       "</div>"
      ],
      "text/plain": [
       "    cement   slag    ash    water  superplastic  coarseagg  fineagg  age  \\\n",
       "0 540.0000 0.0000 0.0000 162.0000        2.5000  1040.0000 676.0000   28   \n",
       "1 540.0000 0.0000 0.0000 162.0000        2.5000  1055.0000 676.0000   28   \n",
       "\n",
       "   strength  \n",
       "0   79.9900  \n",
       "1   61.8900  "
      ]
     },
     "execution_count": 13,
     "metadata": {},
     "output_type": "execute_result"
    }
   ],
   "source": [
    "concrete = pd.read_csv('https://raw.githubusercontent.com/dvasiliu/AAML/refs/heads/main/Data%20Sets/concrete.csv')\n",
    "concrete.head(2)"
   ]
  },
  {
   "cell_type": "code",
   "execution_count": 14,
   "metadata": {},
   "outputs": [],
   "source": [
    "X = concrete.drop(columns=['strength']).values\n",
    "y = concrete['strength'].values"
   ]
  },
  {
   "cell_type": "code",
   "execution_count": 15,
   "metadata": {},
   "outputs": [],
   "source": [
    "poly = PolynomialFeatures(degree=2, interaction_only=False, include_bias=False)\n",
    "X_poly = poly.fit_transform(X)"
   ]
  },
  {
   "cell_type": "code",
   "execution_count": 16,
   "metadata": {},
   "outputs": [],
   "source": [
    "# Scaling the data\n",
    "scaler = MinMaxScaler()\n",
    "X_scaled = scaler.fit_transform(X_poly)\n",
    "\n",
    "X_train, X_test, y_train, y_test = train_test_split(X_scaled, y, test_size=0.2, random_state=440)\n",
    "\n",
    "X_train_tensor = torch.tensor(X_train, dtype=torch.float64)\n",
    "y_train_tensor = torch.tensor(y_train, dtype=torch.float64).reshape(-1, 1)\n",
    "X_test_tensor = torch.tensor(X_test, dtype=torch.float64)\n",
    "\n",
    "kf = KFold(n_splits=5, shuffle=True, random_state=440)\n"
   ]
  },
  {
   "cell_type": "code",
   "execution_count": 17,
   "metadata": {},
   "outputs": [],
   "source": [
    "def cross_validate_model(model_class, X, y, penalty_value):\n",
    "    mse_list = []\n",
    "    non_zero_weights_list = []\n",
    "    \n",
    "    for train_idx, val_idx in kf.split(X):\n",
    "        X_train, X_val = X[train_idx], X[val_idx]\n",
    "        y_train, y_val = y[train_idx], y[val_idx]\n",
    "\n",
    "        # Convert to tensors\n",
    "        X_train_tensor = torch.tensor(X_train, dtype=torch.float64)\n",
    "        y_train_tensor = torch.tensor(y_train, dtype=torch.float64).reshape(-1, 1)\n",
    "        X_val_tensor = torch.tensor(X_val, dtype=torch.float64)\n",
    "        y_val_tensor = torch.tensor(y_val, dtype=torch.float64).reshape(-1, 1)\n",
    "        \n",
    "        # Initialize and fit model\n",
    "        if model_class == EN.ElasticNet:\n",
    "            model = model_class(input_size=X_train.shape[1], l1_ratio=0.5, alpha=penalty_value)\n",
    "        elif model_class == SQRT.SqrtLasso:\n",
    "            model = model_class(input_size=X_train.shape[1], alpha=penalty_value)\n",
    "        else:  # SCAD\n",
    "            model = model_class(input_size=X_train.shape[1], lambda_val=penalty_value, a_val=2.5)\n",
    "\n",
    "        model.fit(X_train_tensor, y_train_tensor)\n",
    "\n",
    "        # Predict and calculate MSE for validation set\n",
    "        y_pred = model.predict(X_val_tensor).detach().numpy()\n",
    "        mse = mean_squared_error(y_val, y_pred)\n",
    "        mse_list.append(mse)\n",
    "        \n",
    "        # Count non-zero weights\n",
    "        non_zero_weights = (model.linear.weight.detach().numpy() != 0).sum()\n",
    "        non_zero_weights_list.append(non_zero_weights)\n",
    "    \n",
    "    # Return average MSE and non-zero weights over all folds\n",
    "    avg_mse = np.mean(mse_list)\n",
    "    avg_non_zero_weights = np.mean(non_zero_weights_list)\n",
    "    \n",
    "    return avg_mse, avg_non_zero_weights"
   ]
  },
  {
   "cell_type": "code",
   "execution_count": 18,
   "metadata": {},
   "outputs": [
    {
     "name": "stdout",
     "output_type": "stream",
     "text": [
      "Epoch [100/1000], Loss: 178.72477639018513\n",
      "Epoch [200/1000], Loss: 171.70856004796292\n",
      "Epoch [300/1000], Loss: 169.37601054586736\n",
      "Epoch [400/1000], Loss: 168.50480971785993\n",
      "Epoch [500/1000], Loss: 168.15609537324409\n",
      "Epoch [600/1000], Loss: 168.0074403131007\n",
      "Epoch [700/1000], Loss: 167.9402450650624\n",
      "Epoch [800/1000], Loss: 167.9082163235335\n",
      "Epoch [900/1000], Loss: 167.89223564321907\n",
      "Epoch [1000/1000], Loss: 167.88395796966353\n",
      "Epoch [100/1000], Loss: 179.39977278105096\n",
      "Epoch [200/1000], Loss: 172.41133146708648\n",
      "Epoch [300/1000], Loss: 170.0032741677213\n",
      "Epoch [400/1000], Loss: 169.0749195219156\n",
      "Epoch [500/1000], Loss: 168.69382708405007\n",
      "Epoch [600/1000], Loss: 168.52835898554315\n",
      "Epoch [700/1000], Loss: 168.45266238322296\n",
      "Epoch [800/1000], Loss: 168.41633846109698\n",
      "Epoch [900/1000], Loss: 168.39816282793004\n",
      "Epoch [1000/1000], Loss: 168.3887446616268\n",
      "Epoch [100/1000], Loss: 174.0228637905104\n",
      "Epoch [200/1000], Loss: 167.2814918582227\n",
      "Epoch [300/1000], Loss: 164.9949612052656\n",
      "Epoch [400/1000], Loss: 164.1178388573977\n",
      "Epoch [500/1000], Loss: 163.75689062358737\n",
      "Epoch [600/1000], Loss: 163.59932699876296\n",
      "Epoch [700/1000], Loss: 163.5268599473675\n",
      "Epoch [800/1000], Loss: 163.49194860026557\n",
      "Epoch [900/1000], Loss: 163.47444083380367\n",
      "Epoch [1000/1000], Loss: 163.4653610261509\n",
      "Epoch [100/1000], Loss: 180.97098047675402\n",
      "Epoch [200/1000], Loss: 173.6057912125096\n",
      "Epoch [300/1000], Loss: 171.1560724197584\n",
      "Epoch [400/1000], Loss: 170.23766868992453\n",
      "Epoch [500/1000], Loss: 169.86784726610648\n",
      "Epoch [600/1000], Loss: 169.7094456266772\n",
      "Epoch [700/1000], Loss: 169.63771314780547\n",
      "Epoch [800/1000], Loss: 169.6035710967078\n",
      "Epoch [900/1000], Loss: 169.58660896582268\n",
      "Epoch [1000/1000], Loss: 169.57787828411637\n",
      "Epoch [100/1000], Loss: 177.31300084724688\n",
      "Epoch [200/1000], Loss: 170.21428548567562\n",
      "Epoch [300/1000], Loss: 167.8986538562031\n",
      "Epoch [400/1000], Loss: 167.03611520325353\n",
      "Epoch [500/1000], Loss: 166.68644222671708\n",
      "Epoch [600/1000], Loss: 166.53398714225798\n",
      "Epoch [700/1000], Loss: 166.46323691351\n",
      "Epoch [800/1000], Loss: 166.4286481158979\n",
      "Epoch [900/1000], Loss: 166.41101470107182\n",
      "Epoch [1000/1000], Loss: 166.40172711291632\n",
      "Epoch [100/1000], Loss: 34.54493079448851\n",
      "Epoch [200/1000], Loss: 30.076585095346854\n",
      "Epoch [300/1000], Loss: 27.093465529892345\n",
      "Epoch [400/1000], Loss: 25.62865341925153\n",
      "Epoch [500/1000], Loss: 24.958170765961487\n",
      "Epoch [600/1000], Loss: 24.573125881486707\n",
      "Epoch [700/1000], Loss: 24.30979653795321\n",
      "Epoch [800/1000], Loss: 24.111144559129492\n",
      "Epoch [900/1000], Loss: 23.96476560394764\n",
      "Epoch [1000/1000], Loss: 23.850725430211\n",
      "Epoch [100/1000], Loss: 34.84564008607301\n",
      "Epoch [200/1000], Loss: 30.431342700007086\n",
      "Epoch [300/1000], Loss: 27.303983427777226\n",
      "Epoch [400/1000], Loss: 25.720164193946985\n",
      "Epoch [500/1000], Loss: 25.07504302319939\n",
      "Epoch [600/1000], Loss: 24.694851503207254\n",
      "Epoch [700/1000], Loss: 24.44350796981059\n",
      "Epoch [800/1000], Loss: 24.25211380176804\n",
      "Epoch [900/1000], Loss: 24.10227774638455\n",
      "Epoch [1000/1000], Loss: 23.980672102698414\n",
      "Epoch [100/1000], Loss: 33.871530182229925\n",
      "Epoch [200/1000], Loss: 29.470291753537996\n",
      "Epoch [300/1000], Loss: 26.591578010943064\n",
      "Epoch [400/1000], Loss: 25.250138194616042\n",
      "Epoch [500/1000], Loss: 24.63594667432563\n",
      "Epoch [600/1000], Loss: 24.258157177009696\n",
      "Epoch [700/1000], Loss: 24.000866144213084\n",
      "Epoch [800/1000], Loss: 23.816229374546225\n",
      "Epoch [900/1000], Loss: 23.67034152846464\n",
      "Epoch [1000/1000], Loss: 23.564041011316597\n",
      "Epoch [100/1000], Loss: 34.46592704607395\n",
      "Epoch [200/1000], Loss: 30.10670368363698\n",
      "Epoch [300/1000], Loss: 27.163106786944937\n",
      "Epoch [400/1000], Loss: 25.71816151220716\n",
      "Epoch [500/1000], Loss: 25.06557232841002\n",
      "Epoch [600/1000], Loss: 24.703892417198524\n",
      "Epoch [700/1000], Loss: 24.437693958414208\n",
      "Epoch [800/1000], Loss: 24.230932412333146\n",
      "Epoch [900/1000], Loss: 24.085044758535673\n",
      "Epoch [1000/1000], Loss: 23.96751620097438\n",
      "Epoch [100/1000], Loss: 34.52969942272653\n",
      "Epoch [200/1000], Loss: 30.059297617836965\n",
      "Epoch [300/1000], Loss: 26.976556372213665\n",
      "Epoch [400/1000], Loss: 25.49553342585118\n",
      "Epoch [500/1000], Loss: 24.8732376800167\n",
      "Epoch [600/1000], Loss: 24.533617573581292\n",
      "Epoch [700/1000], Loss: 24.291396238913975\n",
      "Epoch [800/1000], Loss: 24.098523400075173\n",
      "Epoch [900/1000], Loss: 23.942638046403168\n",
      "Epoch [1000/1000], Loss: 23.824673997032797\n"
     ]
    }
   ],
   "source": [
    "# ElasticNet\n",
    "elastic_net_mse, elastic_net_nonzero = cross_validate_model(EN.ElasticNet, X_scaled, y, penalty_value=0.5)\n",
    "\n",
    "# SqrtLasso\n",
    "sqrt_lasso_mse, sqrt_lasso_nonzero = cross_validate_model(SQRT.SqrtLasso, X_scaled, y, penalty_value=0.1)\n",
    "\n",
    "# SCAD\n",
    "scad_mse, scad_nonzero = cross_validate_model(SCAD.SCADLinearRegression, X_scaled, y, penalty_value=0.1)\n"
   ]
  },
  {
   "cell_type": "code",
   "execution_count": 19,
   "metadata": {},
   "outputs": [
    {
     "name": "stdout",
     "output_type": "stream",
     "text": [
      "ElasticNet - Avg MSE: 173.4798819769488, Non-zero weights: 44.0\n",
      "SqrtLasso - Avg MSE: 216.95416627213908, Non-zero weights: 44.0\n",
      "SCAD - Avg MSE: 1553.654352951229, Non-zero weights: 44.0\n"
     ]
    }
   ],
   "source": [
    "print(f\"ElasticNet - Avg MSE: {elastic_net_mse}, Non-zero weights: {elastic_net_nonzero}\")\n",
    "print(f\"SqrtLasso - Avg MSE: {sqrt_lasso_mse}, Non-zero weights: {sqrt_lasso_nonzero}\")\n",
    "print(f\"SCAD - Avg MSE: {scad_mse}, Non-zero weights: {scad_nonzero}\")\n"
   ]
  },
  {
   "cell_type": "code",
   "execution_count": null,
   "metadata": {},
   "outputs": [],
   "source": []
  }
 ],
 "metadata": {
  "colab": {
   "provenance": []
  },
  "kernelspec": {
   "display_name": "Python 3 (ipykernel)",
   "language": "python",
   "name": "python3"
  },
  "language_info": {
   "codemirror_mode": {
    "name": "ipython",
    "version": 3
   },
   "file_extension": ".py",
   "mimetype": "text/x-python",
   "name": "python",
   "nbconvert_exporter": "python",
   "pygments_lexer": "ipython3",
   "version": "3.12.3"
  }
 },
 "nbformat": 4,
 "nbformat_minor": 4
}

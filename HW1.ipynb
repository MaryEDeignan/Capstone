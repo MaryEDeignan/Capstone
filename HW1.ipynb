{
 "cells": [
  {
   "cell_type": "markdown",
   "id": "be10faca-e71f-49cf-a7f0-66c4e8d8505c",
   "metadata": {},
   "source": [
    "# HW1\n",
    "Based on the examples provided, make your own class for implementing locally weighted regression to work with multiple features, and also train and test data. Show an application to a real data set with your implementation, and present the 10-fold cross-validated mean square error.\n"
   ]
  },
  {
   "cell_type": "code",
   "execution_count": 1,
   "id": "6f79d3b2-4267-4fd4-b33d-6fb341de01c9",
   "metadata": {},
   "outputs": [],
   "source": [
    "# Libraries of functions need to be imported\n",
    "import numpy as np\n",
    "import pandas as pd\n",
    "from sklearn.preprocessing import MinMaxScaler\n",
    "from sklearn.model_selection import KFold\n",
    "from sklearn.metrics import mean_squared_error as mse\n",
    "from sklearn.model_selection import train_test_split\n",
    "from scipy.spatial.distance import cdist\n",
    "from sklearn.linear_model import Ridge"
   ]
  },
  {
   "cell_type": "markdown",
   "id": "48215335-c54a-43ab-8e05-50630a0f4b50",
   "metadata": {},
   "source": [
    "## Setting Up\n",
    "- Importing data\n",
    "- Setting X and y variables\n",
    "- Test train split\n",
    "- Scaling"
   ]
  },
  {
   "cell_type": "code",
   "execution_count": 2,
   "id": "c057eb33-4f9a-48d2-99a9-205c784bf9f5",
   "metadata": {},
   "outputs": [
    {
     "data": {
      "text/html": [
       "<div>\n",
       "<style scoped>\n",
       "    .dataframe tbody tr th:only-of-type {\n",
       "        vertical-align: middle;\n",
       "    }\n",
       "\n",
       "    .dataframe tbody tr th {\n",
       "        vertical-align: top;\n",
       "    }\n",
       "\n",
       "    .dataframe thead th {\n",
       "        text-align: right;\n",
       "    }\n",
       "</style>\n",
       "<table border=\"1\" class=\"dataframe\">\n",
       "  <thead>\n",
       "    <tr style=\"text-align: right;\">\n",
       "      <th></th>\n",
       "      <th>MPG</th>\n",
       "      <th>CYL</th>\n",
       "      <th>ENG</th>\n",
       "      <th>WGT</th>\n",
       "    </tr>\n",
       "  </thead>\n",
       "  <tbody>\n",
       "    <tr>\n",
       "      <th>0</th>\n",
       "      <td>18.0</td>\n",
       "      <td>8</td>\n",
       "      <td>307.0</td>\n",
       "      <td>3504</td>\n",
       "    </tr>\n",
       "    <tr>\n",
       "      <th>1</th>\n",
       "      <td>15.0</td>\n",
       "      <td>8</td>\n",
       "      <td>350.0</td>\n",
       "      <td>3693</td>\n",
       "    </tr>\n",
       "    <tr>\n",
       "      <th>2</th>\n",
       "      <td>18.0</td>\n",
       "      <td>8</td>\n",
       "      <td>318.0</td>\n",
       "      <td>3436</td>\n",
       "    </tr>\n",
       "    <tr>\n",
       "      <th>3</th>\n",
       "      <td>16.0</td>\n",
       "      <td>8</td>\n",
       "      <td>304.0</td>\n",
       "      <td>3433</td>\n",
       "    </tr>\n",
       "    <tr>\n",
       "      <th>4</th>\n",
       "      <td>17.0</td>\n",
       "      <td>8</td>\n",
       "      <td>302.0</td>\n",
       "      <td>3449</td>\n",
       "    </tr>\n",
       "  </tbody>\n",
       "</table>\n",
       "</div>"
      ],
      "text/plain": [
       "    MPG  CYL    ENG   WGT\n",
       "0  18.0    8  307.0  3504\n",
       "1  15.0    8  350.0  3693\n",
       "2  18.0    8  318.0  3436\n",
       "3  16.0    8  304.0  3433\n",
       "4  17.0    8  302.0  3449"
      ]
     },
     "execution_count": 2,
     "metadata": {},
     "output_type": "execute_result"
    }
   ],
   "source": [
    "# importing data\n",
    "data = pd.read_csv('cars.csv')\n",
    "data.head()"
   ]
  },
  {
   "cell_type": "code",
   "execution_count": 3,
   "id": "701703fc-a71f-44f4-9e4b-53aa355de269",
   "metadata": {},
   "outputs": [],
   "source": [
    "# Setting X and y variables\n",
    "y = data['MPG'].values\n",
    "X = data.drop(columns = ['MPG']).values"
   ]
  },
  {
   "cell_type": "code",
   "execution_count": 4,
   "id": "7cde994b-014b-4ead-9a72-70766bf33e8f",
   "metadata": {},
   "outputs": [],
   "source": [
    "# splitting the data into test and train\n",
    "X_train, X_test, y_train, y_test = train_test_split(X, y, test_size=0.2, random_state=42)"
   ]
  },
  {
   "cell_type": "code",
   "execution_count": 5,
   "id": "01da86d9-c931-47c3-af79-6e60baff2951",
   "metadata": {},
   "outputs": [],
   "source": [
    "# scaling the data using MinMaxScaler\n",
    "scaler = MinMaxScaler()\n",
    "X_train_scaled = scaler.fit_transform(X_train)\n",
    "X_test_scaled = scaler.transform(X_test)"
   ]
  },
  {
   "cell_type": "markdown",
   "id": "91c41a80-309c-4d84-9b7f-3ce50a0a9e5a",
   "metadata": {},
   "source": [
    "## Creating class to implement Locally Weighted Regression"
   ]
  },
  {
   "cell_type": "code",
   "execution_count": 6,
   "id": "a8497d2e-aa54-4b2c-8a43-252b654f9339",
   "metadata": {},
   "outputs": [],
   "source": [
    "class Lowess:\n",
    "    def __init__(self, tau, kernel_method):\n",
    "        self.tau = tau\n",
    "        self.kernel_method = kernel_method  \n",
    "        \n",
    "    #Defining Kernels\n",
    "    def Gaussian(self, x):\n",
    "        return np.where(np.abs(x) > 4, 0, 1 / (np.sqrt(2 * np.pi)) * np.exp(-0.5 * x**2))\n",
    "    \n",
    "    def Tricubic(self, x):\n",
    "        return np.where(np.abs(x) > 1, 0, (1 - np.abs(x)**3)**3)\n",
    "    \n",
    "    def Epanechnikov(self, x):\n",
    "        return np.where(np.abs(x) > 1, 0, 3 / 4 * (1 - x**2))\n",
    "    \n",
    "    def Quartic(self, x):\n",
    "        return np.where(np.abs(x) > 1, 0, 15 / 16 * (1 - x**2)**2)\n",
    "        \n",
    "\n",
    "    # Computing weights for each point in X_train based on its distance from x0 using specified kernel function\n",
    "    def _compute_weights(self, X_train, x0):\n",
    "        #Computing the Euclidean distance between the test point x0 and all training points\n",
    "        distances = cdist([x0], X_train, metric='Euclidean').flatten()\n",
    "        # Retrieving kernel function specified by self.kernel_method\n",
    "        kernel_function = getattr(self, self.kernel_method) \n",
    "        # Applying kernel function to scaled distances\n",
    "        weights = kernel_function(distances / (2 * self.tau))\n",
    "        return weights\n",
    "\n",
    "    # Computing the regression parameters (theta) for a given test point x0\n",
    "    def _locally_weighted_regression(self, X_train, y_train, x0):\n",
    "        # Getting the weights for the training data based on the distance to x0\n",
    "        weights = self._compute_weights(X_train, x0)\n",
    "        #Converting the weights into diagonal matrix\n",
    "        weight = np.diag(weights)\n",
    "        # Adding an intercept term to the training features\n",
    "        X_train_augmented = np.hstack((np.ones((X_train.shape[0], 1)), X_train))\n",
    "        #Computing the locally weighted regression parameters using weighted least squares\n",
    "        theta = np.linalg.pinv(X_train_augmented.T @ weight @ X_train_augmented) @ X_train_augmented.T @ weight @ y_train\n",
    "        return theta\n",
    "\n",
    "    #Fitting the model and making predictions for test data\n",
    "    def fit_and_predict(self, X_train, y_train, X_test):\n",
    "        #Initializing array to store predictions\n",
    "        predictions = np.zeros(X_test.shape[0])\n",
    "        #For each test point x0 computing the locally weighted regression parameters (theta)\n",
    "        # and augmenting x0 with an intercept term and computing the prediction\n",
    "        for i, x0 in enumerate(X_test):\n",
    "            theta = self._locally_weighted_regression(X_train, y_train, x0)\n",
    "            X0_augmented = np.hstack(([1], x0))  \n",
    "            predictions[i] = X0_augmented @ theta\n",
    "        \n",
    "        return predictions\n",
    "\n",
    "    # Performing K-Fold cross-validation to evaluate model performance\n",
    "    def cross_validate(X_train, y_train, model_class, tau, kernel_method, n_splits=10):\n",
    "        kf = KFold(n_splits=n_splits, shuffle=True, random_state=123)\n",
    "        errors = []\n",
    "\n",
    "        for train_index, test_index in kf.split(X_train):\n",
    "            X_train_fold, X_test_fold = X_train[train_index], X_train[test_index]\n",
    "            y_train_fold, y_test_fold = y_train[train_index], y_train[test_index]\n",
    "    \n",
    "            # Initializing model with the specified kernel method\n",
    "            model = model_class(tau=tau, kernel_method=kernel_method)\n",
    "    \n",
    "            # Fitting the model and making predictions\n",
    "            y_pred_fold = model.fit_and_predict(X_train_fold, y_train_fold, X_test_fold)\n",
    "    \n",
    "            # Calculating and storing mse for the fold\n",
    "            fold_mse = mse(y_test_fold, y_pred_fold)\n",
    "            errors.append(fold_mse)\n",
    "    \n",
    "        # Return the mean of the cv errors\n",
    "        return np.mean(errors)"
   ]
  },
  {
   "cell_type": "code",
   "execution_count": 7,
   "id": "256b2c82-3aec-454c-b1b4-9d5f0d8e5ddc",
   "metadata": {},
   "outputs": [
    {
     "name": "stdout",
     "output_type": "stream",
     "text": [
      "10-Fold Cross-Validated Mean Squared Error: 16.6525\n"
     ]
    }
   ],
   "source": [
    "# Perform 10-fold cross-validation on training data\n",
    "mean_mse = Lowess.cross_validate(X_train_scaled, y_train, Lowess, tau=.08, kernel_method='Gaussian')\n",
    "print(f'10-Fold Cross-Validated Mean Squared Error: {mean_mse:.4f}')"
   ]
  },
  {
   "cell_type": "code",
   "execution_count": null,
   "id": "5a6d89a4-c1e0-42c3-9da3-a3e380ea703b",
   "metadata": {},
   "outputs": [],
   "source": []
  }
 ],
 "metadata": {
  "kernelspec": {
   "display_name": "Python 3 (ipykernel)",
   "language": "python",
   "name": "python3"
  },
  "language_info": {
   "codemirror_mode": {
    "name": "ipython",
    "version": 3
   },
   "file_extension": ".py",
   "mimetype": "text/x-python",
   "name": "python",
   "nbconvert_exporter": "python",
   "pygments_lexer": "ipython3",
   "version": "3.12.4"
  }
 },
 "nbformat": 4,
 "nbformat_minor": 5
}
